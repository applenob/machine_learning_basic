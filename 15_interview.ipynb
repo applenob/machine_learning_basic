{
 "cells": [
  {
   "cell_type": "markdown",
   "metadata": {},
   "source": [
    "# 机器学习基础知识汇总"
   ]
  },
  {
   "cell_type": "markdown",
   "metadata": {},
   "source": [
    "## 计算CNN输出尺寸\n",
    "\n",
    "公式：`输出尺寸=(输入尺寸-filter尺寸+2*padding）/stride+1`"
   ]
  },
  {
   "cell_type": "markdown",
   "metadata": {},
   "source": [
    "## ROC 和AUC\n",
    "\n",
    "ROC曲线的x轴是伪阳率即$\\frac{伪阳}{真阴+伪阳}$，y轴是真阳率即$\\frac{真阳}{真阳+伪阴}$。\n",
    "\n",
    "- thresh-hold很高，导致全部预测阴，则真阳率为0，伪阳率为0，在坐标点$(0, 0)$；\n",
    "- thresh-hold很低，导致全部预测阳，则真阳率为1，伪阳率为1，在坐标点$(1, 1)$；\n",
    "- 如果分类效果很好，则真阳率很高，伪阳率很低，接近坐标点$(0, 1)$。\n",
    "\n",
    "AUC即（Area Under Curve），即ROC曲线下的面积。如果分类效果越好，点越接近$(0, 1)$则AUC越大。\n",
    "\n",
    "[参考链接](https://www.zhihu.com/question/39840928?from=profile_question_card)"
   ]
  },
  {
   "cell_type": "markdown",
   "metadata": {},
   "source": [
    "## 卡方检验\n",
    "\n",
    "卡方检验可以用于两个变量间的**相关性检测**。\n",
    "\n",
    "核心思想：卡方衡量了**实际值与理论值的差异程度**。\n",
    "\n",
    "即，先假设两个变量之间是**相互独立的**，计算一组理论值$T$，设实际值是$A$，则$\\mathfrak{X}^2=\\frac{\\sum(A-T)^2}{T}$\n",
    "\n",
    "[参考链接](https://segmentfault.com/a/1190000003719712)"
   ]
  },
  {
   "cell_type": "markdown",
   "metadata": {},
   "source": [
    "## 交叉熵损失函数\n",
    "\n",
    "$H(p, q) = \\sum_i p_i × log\\frac{1}{q_i}$，可以衡量两个分布的相似度。\n",
    "\n",
    "可以配合sigmoid，使其在误差下降的时候，梯度不会太小。"
   ]
  },
  {
   "cell_type": "markdown",
   "metadata": {
    "collapsed": true
   },
   "source": [
    "## Perplexity\n",
    "\n",
    "困惑度，如果语言模型生成的句子越不像是人说的，困惑度越大，语言模型越差。\n",
    "\n",
    "在语言模型中，可以将一句话的似然函数，用来描述这句话的困惑度。似然函数越大，困惑度越小。\n",
    "\n",
    "于是有：$PPL=\\sqrt[n]{\\frac{1}{P(w_1,w_2,...,w_N)}}\\\\=e^{\\frac{1}{N}ln\\frac{1}{P(w_1,w_2,...,w_N)}}\\\\=e^{-\\frac{1}{N}\\sum_{i=1}^NlnP(w_i)}$\n",
    "\n",
    "[参考链接](http://blog.csdn.net/luo123n/article/details/48902815)"
   ]
  },
  {
   "cell_type": "markdown",
   "metadata": {
    "collapsed": true
   },
   "source": [
    "## Haffman 编码\n",
    "\n",
    "本身概念不难，最短编码。构造也很简单，每次把两个最小的拿出来，合并，再丢回去。\n",
    "\n",
    "需要注意的是，编码的时候，所有的编码，不可以是其他的任何编码的前缀。\n",
    "\n"
   ]
  },
  {
   "cell_type": "code",
   "execution_count": null,
   "metadata": {
    "collapsed": true
   },
   "outputs": [],
   "source": []
  },
  {
   "cell_type": "code",
   "execution_count": null,
   "metadata": {
    "collapsed": true
   },
   "outputs": [],
   "source": []
  },
  {
   "cell_type": "code",
   "execution_count": null,
   "metadata": {
    "collapsed": true
   },
   "outputs": [],
   "source": []
  },
  {
   "cell_type": "code",
   "execution_count": null,
   "metadata": {
    "collapsed": true
   },
   "outputs": [],
   "source": []
  }
 ],
 "metadata": {
  "anaconda-cloud": {},
  "kernelspec": {
   "display_name": "Python [default]",
   "language": "python",
   "name": "python2"
  },
  "language_info": {
   "codemirror_mode": {
    "name": "ipython",
    "version": 2
   },
   "file_extension": ".py",
   "mimetype": "text/x-python",
   "name": "python",
   "nbconvert_exporter": "python",
   "pygments_lexer": "ipython2",
   "version": "2.7.14"
  }
 },
 "nbformat": 4,
 "nbformat_minor": 1
}
