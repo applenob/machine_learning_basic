{
 "cells": [
  {
   "cell_type": "markdown",
   "metadata": {},
   "source": [
    "# EM算法总结\n",
    "\n",
    "在概率模型中，最常用的模型参数估计方法应该就是**最大似然法**。\n",
    "\n",
    "**EM算法**本质上也是最大似然，它是针对模型中存在**隐变量**的情况的**最大似然**。\n",
    "\n",
    "下面通过两个例子引入。\n",
    "\n",
    "## 没有隐变量的"
   ]
  },
  {
   "cell_type": "code",
   "execution_count": null,
   "metadata": {
    "collapsed": true
   },
   "outputs": [],
   "source": []
  },
  {
   "cell_type": "markdown",
   "metadata": {},
   "source": [
    "## 参考资料\n",
    "\n",
    "- [如何感性地理解EM算法？](http://www.jianshu.com/p/1121509ac1dc)\n",
    "- [What is the expectation maximization algorithm?](http://pan.baidu.com/s/1i4NfvP7)"
   ]
  }
 ],
 "metadata": {
  "anaconda-cloud": {},
  "kernelspec": {
   "display_name": "Python [default]",
   "language": "python",
   "name": "python2"
  },
  "language_info": {
   "codemirror_mode": {
    "name": "ipython",
    "version": 2
   },
   "file_extension": ".py",
   "mimetype": "text/x-python",
   "name": "python",
   "nbconvert_exporter": "python",
   "pygments_lexer": "ipython2",
   "version": "2.7.12"
  }
 },
 "nbformat": 4,
 "nbformat_minor": 1
}
